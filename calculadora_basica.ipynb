{
 "cells": [
  {
   "cell_type": "code",
   "execution_count": 57,
   "id": "4cf043e6-2b8e-4d31-a57d-9516c34c1a57",
   "metadata": {},
   "outputs": [
    {
     "name": "stdout",
     "output_type": "stream",
     "text": [
      "Escolha uma opção de cálculo (digite somente o número da opção): \n",
      "1 - adição\n",
      "2 - subtração\n",
      "3 - multiplicacao\n",
      "4 - divisao\n",
      "\n"
     ]
    },
    {
     "name": "stdin",
     "output_type": "stream",
     "text": [
      " 1\n",
      "\n",
      "Informe o primeiro número:  1000\n",
      "Informe o segundo número:  200\n"
     ]
    },
    {
     "name": "stdout",
     "output_type": "stream",
     "text": [
      "O resultado é: 1200.0\n"
     ]
    }
   ],
   "source": [
    "#criando uma função para cada operação\n",
    "\n",
    "def adicao (x, y):\n",
    "    return x + y \n",
    "\n",
    "def subtracao (x, y):\n",
    "    return x - y\n",
    "\n",
    "def multiplicacao (x, y):\n",
    "    return x * y\n",
    "\n",
    "def divisao (x, y):\n",
    "    return x / y\n",
    "\n",
    "print(\"Escolha uma opção de cálculo (digite somente o número da opção): \")\n",
    "print(\"1 - adição\")\n",
    "print(\"2 - subtração\")\n",
    "print(\"3 - multiplicacao\")\n",
    "print(\"4 - divisao\\n\")\n",
    "\n",
    "opcao=input().strip()\n",
    "\n",
    "x=float(input(\"\\nInforme o primeiro número: \"))\n",
    "y=float(input(\"Informe o segundo número: \"))\n",
    "\n",
    "def escolher_opcao(opcao, x, y):\n",
    "    if opcao == '1':\n",
    "        return adicao(x, y)\n",
    "    elif opcao == '2':\n",
    "        return subtracao(x, y)\n",
    "    elif opcao == '3':\n",
    "        return multiplicacao(x, y)\n",
    "    elif opcao == '4':\n",
    "        return divisao(x, y)\n",
    "    else:\n",
    "        return \"Opção inválida\"\n",
    "\n",
    "resultado = escolher_opcao(opcao, x, y)\n",
    "print(f\"O resultado é: {resultado}\")\n"
   ]
  },
  {
   "cell_type": "code",
   "execution_count": null,
   "id": "8e71411f-2d09-4b03-8c66-df62ea15f5c8",
   "metadata": {},
   "outputs": [],
   "source": []
  }
 ],
 "metadata": {
  "kernelspec": {
   "display_name": "Python 3 (ipykernel)",
   "language": "python",
   "name": "python3"
  },
  "language_info": {
   "codemirror_mode": {
    "name": "ipython",
    "version": 3
   },
   "file_extension": ".py",
   "mimetype": "text/x-python",
   "name": "python",
   "nbconvert_exporter": "python",
   "pygments_lexer": "ipython3",
   "version": "3.11.7"
  }
 },
 "nbformat": 4,
 "nbformat_minor": 5
}
